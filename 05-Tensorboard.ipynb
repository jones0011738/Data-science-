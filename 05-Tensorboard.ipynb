{
 "cells": [
  {
   "cell_type": "markdown",
   "metadata": {},
   "source": [
    "<a href=\"https://www.pieriandata.com\"><img src=\"../Pierian_Data_Logo.PNG\"></a>\n",
    "<strong><center>Copyright by Pierian Data Inc.</center></strong> \n",
    "<strong><center>Created by Jose Marcial Portilla.</center></strong>"
   ]
  },
  {
   "cell_type": "markdown",
   "metadata": {},
   "source": [
    "# Tensorboard\n",
    "\n",
    "---\n",
    "---\n",
    "\n",
    "**NOTE: You must watch the corresponding video to understand this lecture. This notebook can't serve as a full guide. Please watch the video BEFORE posting questions to the QA forum.**\n",
    "\n",
    "---\n",
    "---\n",
    "\n",
    "Let's explore the built in data visualization capabilities that come with Tensorboard.\n",
    "\n",
    "Full official tutorial available here: https://www.tensorflow.org/tensorboard/get_started\n",
    "\n",
    "## Data"
   ]
  },
  {
   "cell_type": "code",
   "execution_count": 1,
   "metadata": {},
   "outputs": [],
   "source": [
    "import pandas as pd\n",
    "import numpy as np"
   ]
  },
  {
   "cell_type": "code",
   "execution_count": 6,
   "metadata": {},
   "outputs": [],
   "source": [
    "df = pd.read_csv('cancer_classification.csv')"
   ]
  },
  {
   "cell_type": "markdown",
   "metadata": {},
   "source": [
    "### Train Test Split"
   ]
  },
  {
   "cell_type": "code",
   "execution_count": 7,
   "metadata": {},
   "outputs": [],
   "source": [
    "X = df.drop('benign_0__mal_1',axis=1).values\n",
    "y = df['benign_0__mal_1'].values"
   ]
  },
  {
   "cell_type": "code",
   "execution_count": 8,
   "metadata": {},
   "outputs": [],
   "source": [
    "from sklearn.model_selection import train_test_split"
   ]
  },
  {
   "cell_type": "code",
   "execution_count": 9,
   "metadata": {},
   "outputs": [],
   "source": [
    "X_train, X_test, y_train, y_test = train_test_split(X,y,test_size=0.25,random_state=101)"
   ]
  },
  {
   "cell_type": "markdown",
   "metadata": {},
   "source": [
    "\n",
    "### Scaling Data"
   ]
  },
  {
   "cell_type": "code",
   "execution_count": 10,
   "metadata": {},
   "outputs": [],
   "source": [
    "from sklearn.preprocessing import MinMaxScaler"
   ]
  },
  {
   "cell_type": "code",
   "execution_count": 11,
   "metadata": {},
   "outputs": [],
   "source": [
    "scaler = MinMaxScaler()"
   ]
  },
  {
   "cell_type": "code",
   "execution_count": 12,
   "metadata": {},
   "outputs": [
    {
     "data": {
      "text/plain": [
       "MinMaxScaler()"
      ]
     },
     "execution_count": 12,
     "metadata": {},
     "output_type": "execute_result"
    }
   ],
   "source": [
    "scaler.fit(X_train)"
   ]
  },
  {
   "cell_type": "code",
   "execution_count": 13,
   "metadata": {},
   "outputs": [],
   "source": [
    "X_train = scaler.transform(X_train)\n",
    "X_test = scaler.transform(X_test)"
   ]
  },
  {
   "cell_type": "markdown",
   "metadata": {},
   "source": [
    "## Creating the Model"
   ]
  },
  {
   "cell_type": "code",
   "execution_count": 14,
   "metadata": {},
   "outputs": [],
   "source": [
    "import tensorflow as tf\n",
    "from tensorflow.keras.models import Sequential\n",
    "from tensorflow.keras.layers import Dense, Activation,Dropout"
   ]
  },
  {
   "cell_type": "code",
   "execution_count": 15,
   "metadata": {},
   "outputs": [],
   "source": [
    "from tensorflow.keras.callbacks import EarlyStopping,TensorBoard"
   ]
  },
  {
   "cell_type": "code",
   "execution_count": 16,
   "metadata": {},
   "outputs": [],
   "source": [
    "early_stop = EarlyStopping(monitor='val_loss', mode='min', verbose=1, patience=25)"
   ]
  },
  {
   "cell_type": "code",
   "execution_count": 17,
   "metadata": {},
   "outputs": [
    {
     "data": {
      "text/plain": [
       "'C:\\\\Users\\\\jones\\\\Downloads\\\\Refactored_Py_DS_ML_Bootcamp-master\\\\22-Deep Learning'"
      ]
     },
     "execution_count": 17,
     "metadata": {},
     "output_type": "execute_result"
    }
   ],
   "source": [
    "pwd"
   ]
  },
  {
   "cell_type": "markdown",
   "metadata": {},
   "source": [
    "## Creating the Tensorboard Callback\n",
    "\n",
    "TensorBoard is a visualization tool provided with TensorFlow.\n",
    "\n",
    "This callback logs events for TensorBoard, including:\n",
    "* Metrics summary plots\n",
    "* Training graph visualization\n",
    "* Activation histograms\n",
    "* Sampled profiling\n",
    "\n",
    "If you have installed TensorFlow with pip, you should be able\n",
    "to launch TensorBoard from the command line:\n",
    "\n",
    "```sh\n",
    "tensorboard --logdir=path_to_your_logs\n",
    "```\n",
    "\n",
    "You can find more information about TensorBoard\n",
    "[here](https://www.tensorflow.org/tensorboard/).\n",
    "\n",
    "    Arguments:\n",
    "        log_dir: the path of the directory where to save the log files to be\n",
    "          parsed by TensorBoard.\n",
    "        histogram_freq: frequency (in epochs) at which to compute activation and\n",
    "          weight histograms for the layers of the model. If set to 0, histograms\n",
    "          won't be computed. Validation data (or split) must be specified for\n",
    "          histogram visualizations.\n",
    "        write_graph: whether to visualize the graph in TensorBoard. The log file\n",
    "          can become quite large when write_graph is set to True.\n",
    "        write_images: whether to write model weights to visualize as image in\n",
    "          TensorBoard.\n",
    "        update_freq: `'batch'` or `'epoch'` or integer. When using `'batch'`,\n",
    "          writes the losses and metrics to TensorBoard after each batch. The same\n",
    "          applies for `'epoch'`. If using an integer, let's say `1000`, the\n",
    "          callback will write the metrics and losses to TensorBoard every 1000\n",
    "          samples. Note that writing too frequently to TensorBoard can slow down\n",
    "          your training.\n",
    "        profile_batch: Profile the batch to sample compute characteristics. By\n",
    "          default, it will profile the second batch. Set profile_batch=0 to\n",
    "          disable profiling. Must run in TensorFlow eager mode.\n",
    "        embeddings_freq: frequency (in epochs) at which embedding layers will\n",
    "          be visualized. If set to 0, embeddings won't be visualized.\n",
    "       "
   ]
  },
  {
   "cell_type": "code",
   "execution_count": 18,
   "metadata": {},
   "outputs": [],
   "source": [
    "from datetime import datetime"
   ]
  },
  {
   "cell_type": "code",
   "execution_count": 25,
   "metadata": {},
   "outputs": [
    {
     "name": "stdout",
     "output_type": "stream",
     "text": [
      "Help on class TensorBoard in module keras.callbacks:\n",
      "\n",
      "class TensorBoard(Callback, keras.utils.version_utils.TensorBoardVersionSelector)\n",
      " |  TensorBoard(log_dir='logs', histogram_freq=0, write_graph=True, write_images=False, write_steps_per_second=False, update_freq='epoch', profile_batch=0, embeddings_freq=0, embeddings_metadata=None, **kwargs)\n",
      " |  \n",
      " |  Enable visualizations for TensorBoard.\n",
      " |  \n",
      " |  TensorBoard is a visualization tool provided with TensorFlow.\n",
      " |  \n",
      " |  This callback logs events for TensorBoard, including:\n",
      " |  \n",
      " |  * Metrics summary plots\n",
      " |  * Training graph visualization\n",
      " |  * Weight histograms\n",
      " |  * Sampled profiling\n",
      " |  \n",
      " |  When used in `Model.evaluate`, in addition to epoch summaries, there will be\n",
      " |  a summary that records evaluation metrics vs `Model.optimizer.iterations`\n",
      " |  written. The metric names will be prepended with `evaluation`, with\n",
      " |  `Model.optimizer.iterations` being the step in the visualized TensorBoard.\n",
      " |  \n",
      " |  If you have installed TensorFlow with pip, you should be able\n",
      " |  to launch TensorBoard from the command line:\n",
      " |  \n",
      " |  ```\n",
      " |  tensorboard --logdir=path_to_your_logs\n",
      " |  ```\n",
      " |  \n",
      " |  You can find more information about TensorBoard\n",
      " |  [here](https://www.tensorflow.org/get_started/summaries_and_tensorboard).\n",
      " |  \n",
      " |  Args:\n",
      " |      log_dir: the path of the directory where to save the log files to be\n",
      " |        parsed by TensorBoard. e.g. log_dir = os.path.join(working_dir,\n",
      " |        'logs') This directory should not be reused by any other callbacks.\n",
      " |      histogram_freq: frequency (in epochs) at which to compute\n",
      " |        weight histograms for the layers of the model. If set to 0, histograms\n",
      " |        won't be computed. Validation data (or split) must be specified for\n",
      " |        histogram visualizations.\n",
      " |      write_graph: whether to visualize the graph in TensorBoard. The log file\n",
      " |        can become quite large when write_graph is set to True.\n",
      " |      write_images: whether to write model weights to visualize as image in\n",
      " |        TensorBoard.\n",
      " |      write_steps_per_second: whether to log the training steps per second\n",
      " |        into Tensorboard. This supports both epoch and batch frequency\n",
      " |        logging.\n",
      " |      update_freq: `'batch'` or `'epoch'` or integer. When using `'batch'`,\n",
      " |        writes the losses and metrics to TensorBoard after each batch. The\n",
      " |        same applies for `'epoch'`. If using an integer, let's say `1000`, the\n",
      " |        callback will write the metrics and losses to TensorBoard every 1000\n",
      " |        batches. Note that writing too frequently to TensorBoard can slow down\n",
      " |        your training.\n",
      " |      profile_batch: Profile the batch(es) to sample compute characteristics.\n",
      " |        profile_batch must be a non-negative integer or a tuple of integers.\n",
      " |        A pair of positive integers signify a range of batches to profile.\n",
      " |        By default, profiling is disabled.\n",
      " |      embeddings_freq: frequency (in epochs) at which embedding layers will be\n",
      " |        visualized. If set to 0, embeddings won't be visualized.\n",
      " |      embeddings_metadata: Dictionary which maps embedding layer names to the\n",
      " |        filename of a file in which to save metadata for the embedding layer.\n",
      " |        In case the same metadata file is to be\n",
      " |        used for all embedding layers, a single filename can be passed.\n",
      " |  \n",
      " |  Examples:\n",
      " |  \n",
      " |  Basic usage:\n",
      " |  \n",
      " |  ```python\n",
      " |  tensorboard_callback = tf.keras.callbacks.TensorBoard(log_dir=\"./logs\")\n",
      " |  model.fit(x_train, y_train, epochs=2, callbacks=[tensorboard_callback])\n",
      " |  # Then run the tensorboard command to view the visualizations.\n",
      " |  ```\n",
      " |  \n",
      " |  Custom batch-level summaries in a subclassed Model:\n",
      " |  \n",
      " |  ```python\n",
      " |  class MyModel(tf.keras.Model):\n",
      " |  \n",
      " |    def build(self, _):\n",
      " |      self.dense = tf.keras.layers.Dense(10)\n",
      " |  \n",
      " |    def call(self, x):\n",
      " |      outputs = self.dense(x)\n",
      " |      tf.summary.histogram('outputs', outputs)\n",
      " |      return outputs\n",
      " |  \n",
      " |  model = MyModel()\n",
      " |  model.compile('sgd', 'mse')\n",
      " |  \n",
      " |  # Make sure to set `update_freq=N` to log a batch-level summary every N\n",
      " |  # batches.  In addition to any `tf.summary` contained in `Model.call`,\n",
      " |  # metrics added in `Model.compile` will be logged every N batches.\n",
      " |  tb_callback = tf.keras.callbacks.TensorBoard('./logs', update_freq=1)\n",
      " |  model.fit(x_train, y_train, callbacks=[tb_callback])\n",
      " |  ```\n",
      " |  \n",
      " |  Custom batch-level summaries in a Functional API Model:\n",
      " |  \n",
      " |  ```python\n",
      " |  def my_summary(x):\n",
      " |    tf.summary.histogram('x', x)\n",
      " |    return x\n",
      " |  \n",
      " |  inputs = tf.keras.Input(10)\n",
      " |  x = tf.keras.layers.Dense(10)(inputs)\n",
      " |  outputs = tf.keras.layers.Lambda(my_summary)(x)\n",
      " |  model = tf.keras.Model(inputs, outputs)\n",
      " |  model.compile('sgd', 'mse')\n",
      " |  \n",
      " |  # Make sure to set `update_freq=N` to log a batch-level summary every N\n",
      " |  # batches. In addition to any `tf.summary` contained in `Model.call`,\n",
      " |  # metrics added in `Model.compile` will be logged every N batches.\n",
      " |  tb_callback = tf.keras.callbacks.TensorBoard('./logs', update_freq=1)\n",
      " |  model.fit(x_train, y_train, callbacks=[tb_callback])\n",
      " |  ```\n",
      " |  \n",
      " |  Profiling:\n",
      " |  \n",
      " |  ```python\n",
      " |  # Profile a single batch, e.g. the 5th batch.\n",
      " |  tensorboard_callback = tf.keras.callbacks.TensorBoard(\n",
      " |      log_dir='./logs', profile_batch=5)\n",
      " |  model.fit(x_train, y_train, epochs=2, callbacks=[tensorboard_callback])\n",
      " |  \n",
      " |  # Profile a range of batches, e.g. from 10 to 20.\n",
      " |  tensorboard_callback = tf.keras.callbacks.TensorBoard(\n",
      " |      log_dir='./logs', profile_batch=(10,20))\n",
      " |  model.fit(x_train, y_train, epochs=2, callbacks=[tensorboard_callback])\n",
      " |  ```\n",
      " |  \n",
      " |  Method resolution order:\n",
      " |      TensorBoard\n",
      " |      Callback\n",
      " |      keras.utils.version_utils.TensorBoardVersionSelector\n",
      " |      builtins.object\n",
      " |  \n",
      " |  Methods defined here:\n",
      " |  \n",
      " |  __init__(self, log_dir='logs', histogram_freq=0, write_graph=True, write_images=False, write_steps_per_second=False, update_freq='epoch', profile_batch=0, embeddings_freq=0, embeddings_metadata=None, **kwargs)\n",
      " |      Initialize self.  See help(type(self)) for accurate signature.\n",
      " |  \n",
      " |  on_epoch_begin(self, epoch, logs=None)\n",
      " |      Called at the start of an epoch.\n",
      " |      \n",
      " |      Subclasses should override for any actions to run. This function should\n",
      " |      only be called during TRAIN mode.\n",
      " |      \n",
      " |      Args:\n",
      " |          epoch: Integer, index of epoch.\n",
      " |          logs: Dict. Currently no data is passed to this argument for this\n",
      " |            method but that may change in the future.\n",
      " |  \n",
      " |  on_epoch_end(self, epoch, logs=None)\n",
      " |      Runs metrics and histogram summaries at epoch end.\n",
      " |  \n",
      " |  on_test_begin(self, logs=None)\n",
      " |      Called at the beginning of evaluation or validation.\n",
      " |      \n",
      " |      Subclasses should override for any actions to run.\n",
      " |      \n",
      " |      Args:\n",
      " |          logs: Dict. Currently no data is passed to this argument for this\n",
      " |            method but that may change in the future.\n",
      " |  \n",
      " |  on_test_end(self, logs=None)\n",
      " |      Called at the end of evaluation or validation.\n",
      " |      \n",
      " |      Subclasses should override for any actions to run.\n",
      " |      \n",
      " |      Args:\n",
      " |          logs: Dict. Currently the output of the last call to\n",
      " |            `on_test_batch_end()` is passed to this argument for this method\n",
      " |            but that may change in the future.\n",
      " |  \n",
      " |  on_train_batch_begin(self, batch, logs=None)\n",
      " |      Called at the beginning of a training batch in `fit` methods.\n",
      " |      \n",
      " |      Subclasses should override for any actions to run.\n",
      " |      \n",
      " |      Note that if the `steps_per_execution` argument to `compile` in\n",
      " |      `tf.keras.Model` is set to `N`, this method will only be called every\n",
      " |      `N` batches.\n",
      " |      \n",
      " |      Args:\n",
      " |          batch: Integer, index of batch within the current epoch.\n",
      " |          logs: Dict. Currently no data is passed to this argument for this\n",
      " |            method but that may change in the future.\n",
      " |  \n",
      " |  on_train_batch_end(self, batch, logs=None)\n",
      " |      Called at the end of a training batch in `fit` methods.\n",
      " |      \n",
      " |      Subclasses should override for any actions to run.\n",
      " |      \n",
      " |      Note that if the `steps_per_execution` argument to `compile` in\n",
      " |      `tf.keras.Model` is set to `N`, this method will only be called every\n",
      " |      `N` batches.\n",
      " |      \n",
      " |      Args:\n",
      " |          batch: Integer, index of batch within the current epoch.\n",
      " |          logs: Dict. Aggregated metric results up until this batch.\n",
      " |  \n",
      " |  on_train_begin(self, logs=None)\n",
      " |      Called at the beginning of training.\n",
      " |      \n",
      " |      Subclasses should override for any actions to run.\n",
      " |      \n",
      " |      Args:\n",
      " |          logs: Dict. Currently no data is passed to this argument for this\n",
      " |            method but that may change in the future.\n",
      " |  \n",
      " |  on_train_end(self, logs=None)\n",
      " |      Called at the end of training.\n",
      " |      \n",
      " |      Subclasses should override for any actions to run.\n",
      " |      \n",
      " |      Args:\n",
      " |          logs: Dict. Currently the output of the last call to\n",
      " |            `on_epoch_end()` is passed to this argument for this method but\n",
      " |            that may change in the future.\n",
      " |  \n",
      " |  set_model(self, model)\n",
      " |      Sets Keras model and writes graph if specified.\n",
      " |  \n",
      " |  ----------------------------------------------------------------------\n",
      " |  Methods inherited from Callback:\n",
      " |  \n",
      " |  on_batch_begin(self, batch, logs=None)\n",
      " |      A backwards compatibility alias for `on_train_batch_begin`.\n",
      " |  \n",
      " |  on_batch_end(self, batch, logs=None)\n",
      " |      A backwards compatibility alias for `on_train_batch_end`.\n",
      " |  \n",
      " |  on_predict_batch_begin(self, batch, logs=None)\n",
      " |      Called at the beginning of a batch in `predict` methods.\n",
      " |      \n",
      " |      Subclasses should override for any actions to run.\n",
      " |      \n",
      " |      Note that if the `steps_per_execution` argument to `compile` in\n",
      " |      `tf.keras.Model` is set to `N`, this method will only be called every\n",
      " |      `N` batches.\n",
      " |      \n",
      " |      Args:\n",
      " |          batch: Integer, index of batch within the current epoch.\n",
      " |          logs: Dict. Currently no data is passed to this argument for this\n",
      " |            method but that may change in the future.\n",
      " |  \n",
      " |  on_predict_batch_end(self, batch, logs=None)\n",
      " |      Called at the end of a batch in `predict` methods.\n",
      " |      \n",
      " |      Subclasses should override for any actions to run.\n",
      " |      \n",
      " |      Note that if the `steps_per_execution` argument to `compile` in\n",
      " |      `tf.keras.Model` is set to `N`, this method will only be called every\n",
      " |      `N` batches.\n",
      " |      \n",
      " |      Args:\n",
      " |          batch: Integer, index of batch within the current epoch.\n",
      " |          logs: Dict. Aggregated metric results up until this batch.\n",
      " |  \n",
      " |  on_predict_begin(self, logs=None)\n",
      " |      Called at the beginning of prediction.\n",
      " |      \n",
      " |      Subclasses should override for any actions to run.\n",
      " |      \n",
      " |      Args:\n",
      " |          logs: Dict. Currently no data is passed to this argument for this\n",
      " |            method but that may change in the future.\n",
      " |  \n",
      " |  on_predict_end(self, logs=None)\n",
      " |      Called at the end of prediction.\n",
      " |      \n",
      " |      Subclasses should override for any actions to run.\n",
      " |      \n",
      " |      Args:\n",
      " |          logs: Dict. Currently no data is passed to this argument for this\n",
      " |            method but that may change in the future.\n",
      " |  \n",
      " |  on_test_batch_begin(self, batch, logs=None)\n",
      " |      Called at the beginning of a batch in `evaluate` methods.\n",
      " |      \n",
      " |      Also called at the beginning of a validation batch in the `fit`\n",
      " |      methods, if validation data is provided.\n",
      " |      \n",
      " |      Subclasses should override for any actions to run.\n",
      " |      \n",
      " |      Note that if the `steps_per_execution` argument to `compile` in\n",
      " |      `tf.keras.Model` is set to `N`, this method will only be called every\n",
      " |      `N` batches.\n",
      " |      \n",
      " |      Args:\n",
      " |          batch: Integer, index of batch within the current epoch.\n",
      " |          logs: Dict. Currently no data is passed to this argument for this\n",
      " |            method but that may change in the future.\n",
      " |  \n",
      " |  on_test_batch_end(self, batch, logs=None)\n",
      " |      Called at the end of a batch in `evaluate` methods.\n",
      " |      \n",
      " |      Also called at the end of a validation batch in the `fit`\n",
      " |      methods, if validation data is provided.\n",
      " |      \n",
      " |      Subclasses should override for any actions to run.\n",
      " |      \n",
      " |      Note that if the `steps_per_execution` argument to `compile` in\n",
      " |      `tf.keras.Model` is set to `N`, this method will only be called every\n",
      " |      `N` batches.\n",
      " |      \n",
      " |      Args:\n",
      " |          batch: Integer, index of batch within the current epoch.\n",
      " |          logs: Dict. Aggregated metric results up until this batch.\n",
      " |  \n",
      " |  set_params(self, params)\n",
      " |  \n",
      " |  ----------------------------------------------------------------------\n",
      " |  Data descriptors inherited from Callback:\n",
      " |  \n",
      " |  __dict__\n",
      " |      dictionary for instance variables (if defined)\n",
      " |  \n",
      " |  __weakref__\n",
      " |      list of weak references to the object (if defined)\n",
      " |  \n",
      " |  ----------------------------------------------------------------------\n",
      " |  Static methods inherited from keras.utils.version_utils.TensorBoardVersionSelector:\n",
      " |  \n",
      " |  __new__(cls, *args, **kwargs)\n",
      " |      Create and return a new object.  See help(type) for accurate signature.\n",
      "\n"
     ]
    }
   ],
   "source": [
    "help(TensorBoard)"
   ]
  },
  {
   "cell_type": "code",
   "execution_count": 19,
   "metadata": {},
   "outputs": [
    {
     "data": {
      "text/plain": [
       "'2022-11-19--0058'"
      ]
     },
     "execution_count": 19,
     "metadata": {},
     "output_type": "execute_result"
    }
   ],
   "source": [
    "datetime.now().strftime(\"%Y-%m-%d--%H%M\")"
   ]
  },
  {
   "cell_type": "code",
   "execution_count": 20,
   "metadata": {},
   "outputs": [],
   "source": [
    "# WINDOWS: Use \"logs\\\\fit\"\n",
    "# MACOS/LINUX: Use \"logs\\fit\"\n",
    "\n",
    "log_directory = 'logs\\\\fit'\n",
    "\n",
    "# OPTIONAL: ADD A TIMESTAMP FOR UNIQUE FOLDER\n",
    "# timestamp = datetime.now().strftime(\"%Y-%m-%d--%H%M\")\n",
    "# log_directory = log_directory + '\\\\' + timestamp\n",
    "\n",
    "\n",
    "board = TensorBoard(log_dir=log_directory,histogram_freq=1,\n",
    "    write_graph=True,\n",
    "    write_images=True,\n",
    "    update_freq='epoch',\n",
    "    profile_batch=2,\n",
    "    embeddings_freq=1)"
   ]
  },
  {
   "cell_type": "markdown",
   "metadata": {},
   "source": [
    "Now create the model layers:"
   ]
  },
  {
   "cell_type": "code",
   "execution_count": 21,
   "metadata": {},
   "outputs": [],
   "source": [
    "model = Sequential()\n",
    "model.add(Dense(units=30,activation='relu'))\n",
    "model.add(Dropout(0.5))\n",
    "model.add(Dense(units=15,activation='relu'))\n",
    "model.add(Dropout(0.5))\n",
    "model.add(Dense(units=1,activation='sigmoid'))\n",
    "model.compile(loss='binary_crossentropy', optimizer='adam')"
   ]
  },
  {
   "cell_type": "markdown",
   "metadata": {},
   "source": [
    "## Train the Model"
   ]
  },
  {
   "cell_type": "code",
   "execution_count": 22,
   "metadata": {},
   "outputs": [
    {
     "name": "stdout",
     "output_type": "stream",
     "text": [
      "Epoch 1/600\n",
      "14/14 [==============================] - 6s 280ms/step - loss: 0.7403 - val_loss: 0.7181\n",
      "Epoch 2/600\n",
      "14/14 [==============================] - 1s 61ms/step - loss: 0.7074 - val_loss: 0.7020\n",
      "Epoch 3/600\n",
      "14/14 [==============================] - 1s 42ms/step - loss: 0.6994 - val_loss: 0.6847\n",
      "Epoch 4/600\n",
      "14/14 [==============================] - 1s 58ms/step - loss: 0.6719 - val_loss: 0.6654\n",
      "Epoch 5/600\n",
      "14/14 [==============================] - 1s 44ms/step - loss: 0.6744 - val_loss: 0.6458\n",
      "Epoch 6/600\n",
      "14/14 [==============================] - 1s 43ms/step - loss: 0.6589 - val_loss: 0.6325\n",
      "Epoch 7/600\n",
      "14/14 [==============================] - 1s 38ms/step - loss: 0.6330 - val_loss: 0.6139\n",
      "Epoch 8/600\n",
      "14/14 [==============================] - 1s 42ms/step - loss: 0.6139 - val_loss: 0.5930\n",
      "Epoch 9/600\n",
      "14/14 [==============================] - 1s 66ms/step - loss: 0.6098 - val_loss: 0.5660\n",
      "Epoch 10/600\n",
      "14/14 [==============================] - 1s 56ms/step - loss: 0.5864 - val_loss: 0.5395\n",
      "Epoch 11/600\n",
      "14/14 [==============================] - 1s 40ms/step - loss: 0.5545 - val_loss: 0.5077\n",
      "Epoch 12/600\n",
      "14/14 [==============================] - 1s 41ms/step - loss: 0.5500 - val_loss: 0.4752\n",
      "Epoch 13/600\n",
      "14/14 [==============================] - 1s 51ms/step - loss: 0.5151 - val_loss: 0.4442\n",
      "Epoch 14/600\n",
      "14/14 [==============================] - 1s 57ms/step - loss: 0.4890 - val_loss: 0.4115\n",
      "Epoch 15/600\n",
      "14/14 [==============================] - 1s 49ms/step - loss: 0.4814 - val_loss: 0.3888\n",
      "Epoch 16/600\n",
      "14/14 [==============================] - 1s 44ms/step - loss: 0.4587 - val_loss: 0.3652\n",
      "Epoch 17/600\n",
      "14/14 [==============================] - 1s 44ms/step - loss: 0.4295 - val_loss: 0.3313\n",
      "Epoch 18/600\n",
      "14/14 [==============================] - 1s 64ms/step - loss: 0.4143 - val_loss: 0.3096\n",
      "Epoch 19/600\n",
      "14/14 [==============================] - 1s 44ms/step - loss: 0.4155 - val_loss: 0.2945\n",
      "Epoch 20/600\n",
      "14/14 [==============================] - 1s 47ms/step - loss: 0.3679 - val_loss: 0.2724\n",
      "Epoch 21/600\n",
      "14/14 [==============================] - 0s 38ms/step - loss: 0.3612 - val_loss: 0.2569\n",
      "Epoch 22/600\n",
      "14/14 [==============================] - 1s 41ms/step - loss: 0.3486 - val_loss: 0.2426\n",
      "Epoch 23/600\n",
      "14/14 [==============================] - 1s 43ms/step - loss: 0.3359 - val_loss: 0.2264\n",
      "Epoch 24/600\n",
      "14/14 [==============================] - 1s 42ms/step - loss: 0.3379 - val_loss: 0.2226\n",
      "Epoch 25/600\n",
      "14/14 [==============================] - 1s 49ms/step - loss: 0.3175 - val_loss: 0.2253\n",
      "Epoch 26/600\n",
      "14/14 [==============================] - 1s 49ms/step - loss: 0.3238 - val_loss: 0.2035\n",
      "Epoch 27/600\n",
      "14/14 [==============================] - 1s 46ms/step - loss: 0.3066 - val_loss: 0.1906\n",
      "Epoch 28/600\n",
      "14/14 [==============================] - 1s 48ms/step - loss: 0.3211 - val_loss: 0.1840\n",
      "Epoch 29/600\n",
      "14/14 [==============================] - 1s 59ms/step - loss: 0.2805 - val_loss: 0.1757\n",
      "Epoch 30/600\n",
      "14/14 [==============================] - 1s 39ms/step - loss: 0.2619 - val_loss: 0.1683\n",
      "Epoch 31/600\n",
      "14/14 [==============================] - 1s 44ms/step - loss: 0.2586 - val_loss: 0.1656\n",
      "Epoch 32/600\n",
      "14/14 [==============================] - 1s 43ms/step - loss: 0.2684 - val_loss: 0.1578\n",
      "Epoch 33/600\n",
      "14/14 [==============================] - 1s 39ms/step - loss: 0.2611 - val_loss: 0.1544\n",
      "Epoch 34/600\n",
      "14/14 [==============================] - 1s 49ms/step - loss: 0.2367 - val_loss: 0.1513\n",
      "Epoch 35/600\n",
      "14/14 [==============================] - 0s 37ms/step - loss: 0.2607 - val_loss: 0.1375\n",
      "Epoch 36/600\n",
      "14/14 [==============================] - 0s 37ms/step - loss: 0.2331 - val_loss: 0.1358\n",
      "Epoch 37/600\n",
      "14/14 [==============================] - 1s 48ms/step - loss: 0.2461 - val_loss: 0.1358\n",
      "Epoch 38/600\n",
      "14/14 [==============================] - 1s 47ms/step - loss: 0.2408 - val_loss: 0.1350\n",
      "Epoch 39/600\n",
      "14/14 [==============================] - 1s 40ms/step - loss: 0.2387 - val_loss: 0.1305\n",
      "Epoch 40/600\n",
      "14/14 [==============================] - 1s 41ms/step - loss: 0.2313 - val_loss: 0.1286\n",
      "Epoch 41/600\n",
      "14/14 [==============================] - 1s 48ms/step - loss: 0.2035 - val_loss: 0.1198\n",
      "Epoch 42/600\n",
      "14/14 [==============================] - 1s 64ms/step - loss: 0.2160 - val_loss: 0.1192\n",
      "Epoch 43/600\n",
      "14/14 [==============================] - 1s 44ms/step - loss: 0.1987 - val_loss: 0.1242\n",
      "Epoch 44/600\n",
      "14/14 [==============================] - 1s 53ms/step - loss: 0.2042 - val_loss: 0.1085\n",
      "Epoch 45/600\n",
      "14/14 [==============================] - 1s 51ms/step - loss: 0.2063 - val_loss: 0.1113\n",
      "Epoch 46/600\n",
      "14/14 [==============================] - 1s 42ms/step - loss: 0.2044 - val_loss: 0.1120\n",
      "Epoch 47/600\n",
      "14/14 [==============================] - 1s 44ms/step - loss: 0.1769 - val_loss: 0.1068\n",
      "Epoch 48/600\n",
      "14/14 [==============================] - 1s 41ms/step - loss: 0.1798 - val_loss: 0.1012\n",
      "Epoch 49/600\n",
      "14/14 [==============================] - 1s 45ms/step - loss: 0.1662 - val_loss: 0.0988\n",
      "Epoch 50/600\n",
      "14/14 [==============================] - 1s 44ms/step - loss: 0.1892 - val_loss: 0.1064\n",
      "Epoch 51/600\n",
      "14/14 [==============================] - 1s 57ms/step - loss: 0.2060 - val_loss: 0.1017\n",
      "Epoch 52/600\n",
      "14/14 [==============================] - 1s 50ms/step - loss: 0.1807 - val_loss: 0.0967\n",
      "Epoch 53/600\n",
      "14/14 [==============================] - 1s 48ms/step - loss: 0.1870 - val_loss: 0.0977\n",
      "Epoch 54/600\n",
      "14/14 [==============================] - 1s 47ms/step - loss: 0.1486 - val_loss: 0.0967\n",
      "Epoch 55/600\n",
      "14/14 [==============================] - 1s 39ms/step - loss: 0.1671 - val_loss: 0.0932\n",
      "Epoch 56/600\n",
      "14/14 [==============================] - 1s 46ms/step - loss: 0.1677 - val_loss: 0.0933\n",
      "Epoch 57/600\n",
      "14/14 [==============================] - 1s 48ms/step - loss: 0.1720 - val_loss: 0.0934\n",
      "Epoch 58/600\n",
      "14/14 [==============================] - 1s 50ms/step - loss: 0.1633 - val_loss: 0.0960\n",
      "Epoch 59/600\n",
      "14/14 [==============================] - 0s 37ms/step - loss: 0.1765 - val_loss: 0.0933\n",
      "Epoch 60/600\n",
      "14/14 [==============================] - 1s 48ms/step - loss: 0.1360 - val_loss: 0.0927\n",
      "Epoch 61/600\n",
      "14/14 [==============================] - 1s 39ms/step - loss: 0.1457 - val_loss: 0.0894\n",
      "Epoch 62/600\n",
      "14/14 [==============================] - 1s 42ms/step - loss: 0.1390 - val_loss: 0.0892\n",
      "Epoch 63/600\n",
      "14/14 [==============================] - 1s 41ms/step - loss: 0.1499 - val_loss: 0.0867\n",
      "Epoch 64/600\n",
      "14/14 [==============================] - 1s 43ms/step - loss: 0.1649 - val_loss: 0.0852\n",
      "Epoch 65/600\n",
      "14/14 [==============================] - 1s 68ms/step - loss: 0.1661 - val_loss: 0.0841\n",
      "Epoch 66/600\n",
      "14/14 [==============================] - 1s 53ms/step - loss: 0.1305 - val_loss: 0.0891\n",
      "Epoch 67/600\n",
      "14/14 [==============================] - 1s 42ms/step - loss: 0.1450 - val_loss: 0.0882\n",
      "Epoch 68/600\n",
      "14/14 [==============================] - 1s 46ms/step - loss: 0.1467 - val_loss: 0.0904\n",
      "Epoch 69/600\n",
      "14/14 [==============================] - 1s 61ms/step - loss: 0.1679 - val_loss: 0.0949\n",
      "Epoch 70/600\n",
      "14/14 [==============================] - 1s 47ms/step - loss: 0.1438 - val_loss: 0.0945\n",
      "Epoch 71/600\n",
      "14/14 [==============================] - 1s 46ms/step - loss: 0.1412 - val_loss: 0.0872\n",
      "Epoch 72/600\n",
      "14/14 [==============================] - 1s 39ms/step - loss: 0.1257 - val_loss: 0.0875\n",
      "Epoch 73/600\n",
      "14/14 [==============================] - 1s 59ms/step - loss: 0.1390 - val_loss: 0.0931\n",
      "Epoch 74/600\n",
      "14/14 [==============================] - 1s 42ms/step - loss: 0.1279 - val_loss: 0.0938\n",
      "Epoch 75/600\n",
      "14/14 [==============================] - 1s 41ms/step - loss: 0.1423 - val_loss: 0.0891\n",
      "Epoch 76/600\n",
      "14/14 [==============================] - 1s 41ms/step - loss: 0.0953 - val_loss: 0.0855\n",
      "Epoch 77/600\n",
      "14/14 [==============================] - 1s 59ms/step - loss: 0.1238 - val_loss: 0.0863\n",
      "Epoch 78/600\n",
      "14/14 [==============================] - 0s 36ms/step - loss: 0.1284 - val_loss: 0.1003\n",
      "Epoch 79/600\n",
      "14/14 [==============================] - 1s 40ms/step - loss: 0.1284 - val_loss: 0.0909\n",
      "Epoch 80/600\n",
      "14/14 [==============================] - 1s 48ms/step - loss: 0.1353 - val_loss: 0.0905\n",
      "Epoch 81/600\n",
      "14/14 [==============================] - 1s 44ms/step - loss: 0.1242 - val_loss: 0.0867\n",
      "Epoch 82/600\n"
     ]
    },
    {
     "name": "stdout",
     "output_type": "stream",
     "text": [
      "14/14 [==============================] - 1s 44ms/step - loss: 0.1193 - val_loss: 0.0847\n",
      "Epoch 83/600\n",
      "14/14 [==============================] - 1s 52ms/step - loss: 0.1358 - val_loss: 0.0978\n",
      "Epoch 84/600\n",
      "14/14 [==============================] - 1s 39ms/step - loss: 0.1176 - val_loss: 0.0857\n",
      "Epoch 85/600\n",
      "14/14 [==============================] - 1s 44ms/step - loss: 0.1134 - val_loss: 0.0829\n",
      "Epoch 86/600\n",
      "14/14 [==============================] - 1s 38ms/step - loss: 0.1177 - val_loss: 0.0870\n",
      "Epoch 87/600\n",
      "14/14 [==============================] - 1s 56ms/step - loss: 0.1226 - val_loss: 0.1061\n",
      "Epoch 88/600\n",
      "14/14 [==============================] - 1s 43ms/step - loss: 0.1223 - val_loss: 0.0861\n",
      "Epoch 89/600\n",
      "14/14 [==============================] - 1s 46ms/step - loss: 0.1254 - val_loss: 0.0909\n",
      "Epoch 90/600\n",
      "14/14 [==============================] - 1s 43ms/step - loss: 0.1105 - val_loss: 0.0890\n",
      "Epoch 91/600\n",
      "14/14 [==============================] - 1s 40ms/step - loss: 0.1207 - val_loss: 0.0861\n",
      "Epoch 92/600\n",
      "14/14 [==============================] - 1s 40ms/step - loss: 0.1033 - val_loss: 0.0902\n",
      "Epoch 93/600\n",
      "14/14 [==============================] - 1s 68ms/step - loss: 0.1095 - val_loss: 0.0830\n",
      "Epoch 94/600\n",
      "14/14 [==============================] - 1s 41ms/step - loss: 0.1060 - val_loss: 0.0835\n",
      "Epoch 95/600\n",
      "14/14 [==============================] - 1s 48ms/step - loss: 0.0969 - val_loss: 0.0890\n",
      "Epoch 96/600\n",
      "14/14 [==============================] - 1s 56ms/step - loss: 0.1232 - val_loss: 0.0994\n",
      "Epoch 97/600\n",
      "14/14 [==============================] - 1s 44ms/step - loss: 0.0901 - val_loss: 0.0896\n",
      "Epoch 98/600\n",
      "14/14 [==============================] - 1s 53ms/step - loss: 0.1075 - val_loss: 0.0849\n",
      "Epoch 99/600\n",
      "14/14 [==============================] - 1s 41ms/step - loss: 0.1233 - val_loss: 0.0906\n",
      "Epoch 100/600\n",
      "14/14 [==============================] - 1s 38ms/step - loss: 0.0945 - val_loss: 0.0923\n",
      "Epoch 101/600\n",
      "14/14 [==============================] - 1s 39ms/step - loss: 0.1105 - val_loss: 0.0988\n",
      "Epoch 102/600\n",
      "14/14 [==============================] - 0s 37ms/step - loss: 0.1108 - val_loss: 0.0855\n",
      "Epoch 103/600\n",
      "14/14 [==============================] - 1s 49ms/step - loss: 0.1085 - val_loss: 0.0830\n",
      "Epoch 104/600\n",
      "14/14 [==============================] - 0s 37ms/step - loss: 0.0935 - val_loss: 0.0975\n",
      "Epoch 105/600\n",
      "14/14 [==============================] - 1s 43ms/step - loss: 0.0837 - val_loss: 0.1025\n",
      "Epoch 106/600\n",
      "14/14 [==============================] - 1s 48ms/step - loss: 0.1205 - val_loss: 0.0867\n",
      "Epoch 107/600\n",
      "14/14 [==============================] - 1s 50ms/step - loss: 0.1197 - val_loss: 0.0878\n",
      "Epoch 108/600\n",
      "14/14 [==============================] - 1s 42ms/step - loss: 0.0818 - val_loss: 0.1046\n",
      "Epoch 109/600\n",
      "14/14 [==============================] - 1s 54ms/step - loss: 0.0991 - val_loss: 0.0886\n",
      "Epoch 110/600\n",
      "14/14 [==============================] - 1s 49ms/step - loss: 0.0821 - val_loss: 0.0899\n",
      "Epoch 110: early stopping\n"
     ]
    },
    {
     "data": {
      "text/plain": [
       "<keras.callbacks.History at 0x1a0c34edfd0>"
      ]
     },
     "execution_count": 22,
     "metadata": {},
     "output_type": "execute_result"
    }
   ],
   "source": [
    "model.fit(x=X_train, \n",
    "          y=y_train, \n",
    "          epochs=600,\n",
    "          validation_data=(X_test, y_test), verbose=1,\n",
    "          callbacks=[early_stop,board]\n",
    "          )"
   ]
  },
  {
   "cell_type": "markdown",
   "metadata": {},
   "source": [
    "# Running Tensorboard\n"
   ]
  },
  {
   "cell_type": "markdown",
   "metadata": {},
   "source": [
    "## Running through the Command Line\n",
    "\n",
    "**Watch video to see how to run Tensorboard through a command line call.**"
   ]
  },
  {
   "cell_type": "markdown",
   "metadata": {},
   "source": [
    "Tensorboard will run locally in your browser at [http://localhost:6006/](http://localhost:6006/)\n"
   ]
  },
  {
   "cell_type": "code",
   "execution_count": 23,
   "metadata": {},
   "outputs": [
    {
     "name": "stdout",
     "output_type": "stream",
     "text": [
      "logs\\fit\n"
     ]
    }
   ],
   "source": [
    "print(log_directory)"
   ]
  },
  {
   "cell_type": "code",
   "execution_count": 24,
   "metadata": {},
   "outputs": [
    {
     "data": {
      "text/plain": [
       "'C:\\\\Users\\\\jones\\\\Downloads\\\\Refactored_Py_DS_ML_Bootcamp-master\\\\22-Deep Learning'"
      ]
     },
     "execution_count": 24,
     "metadata": {},
     "output_type": "execute_result"
    }
   ],
   "source": [
    "pwd"
   ]
  },
  {
   "cell_type": "markdown",
   "metadata": {},
   "source": [
    "### Use cd at your command line to change directory to the file path reported back by pwd or your current .py file location.\n",
    "### Then run this code at your command line or terminal"
   ]
  },
  {
   "cell_type": "code",
   "execution_count": null,
   "metadata": {},
   "outputs": [],
   "source": [
    "tensorboard --logdir logs\\fit "
   ]
  }
 ],
 "metadata": {
  "kernelspec": {
   "display_name": "Python 3 (ipykernel)",
   "language": "python",
   "name": "python3"
  },
  "language_info": {
   "codemirror_mode": {
    "name": "ipython",
    "version": 3
   },
   "file_extension": ".py",
   "mimetype": "text/x-python",
   "name": "python",
   "nbconvert_exporter": "python",
   "pygments_lexer": "ipython3",
   "version": "3.9.12"
  }
 },
 "nbformat": 4,
 "nbformat_minor": 2
}
